{
 "cells": [
  {
   "cell_type": "code",
   "execution_count": 2,
   "id": "a4ecac81",
   "metadata": {},
   "outputs": [],
   "source": [
    "from transformers import pipeline\n",
    "from Comment_scrapper import youtube_scrapper"
   ]
  },
  {
   "cell_type": "code",
   "execution_count": 4,
   "id": "b913c6bb",
   "metadata": {},
   "outputs": [
    {
     "name": "stdout",
     "output_type": "stream",
     "text": [
      "Executing teardown\n"
     ]
    }
   ],
   "source": [
    "with youtube_scrapper(video_url=\"https://youtu.be/rq8cL2XMM5M\") as scrapper:\n",
    "    comments = scrapper.yt_comments()"
   ]
  },
  {
   "cell_type": "code",
   "execution_count": 5,
   "id": "30dd7772",
   "metadata": {},
   "outputs": [
    {
     "data": {
      "text/plain": [
       "['Summary:\\nIn this video, Corey distinguishes between a regular method, class method, and a static method.',\n",
       " \"I'm broke right now but your tutorials are helping pave the way for me to get out of this situation. Once I get back on my feet I'm going to send some loot to your patreon. Thank you for teaching. These are awesome tutorials.\",\n",
       " 'He actually knows what to teach, \\nUnlike most of paid courses.',\n",
       " 'When I was a beginner, I have watched this video and I learned a couple of things. Now that I have intermediate skills, I see the depth and beauty of this video clearly. I feel like I truly grasped this concept. Thanks Corey!',\n",
       " 'Hi Corey,\\n\\nI noticed a small mistake at 5:46.\\nWhen you split the string, you create new strings including the pay variable.',\n",
       " \"Easily the best explanations of Python concepts on any platform ( YouTube, Udemy, Code with Mosh etc.) Corey has a great ability when explaining something to stay within the scope of the topic. By that i mean he doesn't mentioned anything that would be unfamiliar to someone at that particular level. I've found tutors will throw in advanced topics at a very early stage and throw you complete off. Another helpful aspect of Coreys tutorials is his naming of variables/methods/classes and concepts within code. I've found that tutors will name these similar to the concept they are explaining which has lead me completely misunderstand a subject. I really appreciate your tutorials.\",\n",
       " 'It has been 5 years, since you uploaded this video, and I bet their is still no video or teacher that explain me this topic better than you have. You are the best!!!',\n",
       " 'Hey Corey, You are awesome. I see the hard work you have put through these videos and sharing the fruits of your effort with us.',\n",
       " 'Your videos make more sense and are easier to understand than anybody else!',\n",
       " 'OOP is no more remained difficult after watching these. No doubt, lot of hard-work is done for making these master piece tutorials and hard-work always pays.',\n",
       " 'I paused at 1:17  to checkout video on Decorators which I paused again to checkout video on Closures which I paused, yet again to checkout video on First Class Functions. Glad, I did. Thanks for the awesome videos.',\n",
       " 'Hey Corey - I hv to say that you are amazing at explaining concepts way better than many other paid courses on Udemy, edX, Coursera and all those big platforms. I think the detailed walkthrough via examples are super useful',\n",
       " \"I cann't imagine you make this tutorial free for public. This is the best videos over the internet I think. Thank you man. You are great.\",\n",
       " \"I'm amazed by how easy you make this topic to be understandable for everyone, back in the day i didn't manage to understand what could i do with these, these are top tier explanations, thank you\",\n",
       " \"man.. amazing how useful this is even six years after being published, your explanations are great, appreciate it so much. I'm pretty much starting at the beginning w Python, but your careful usage of, and explanation of, terminology and functionality have helped tremendously :)\\nIt's concise and not convoluted, makes me actually WANT to keep learning\",\n",
       " 'Hi Corey. Another fantastic tutorial. This one was a bit tougher for me because none of the previous tutorials I viewed on this subject went into such exquisite detail. I finally understand this.Thank you so much for your generosity and expertise. You are awesome!',\n",
       " \"Wow Corey, your tutorials are amazing. Please continue doing a lot of them you are doing an awesome job! I always struggled to understand OOP concepts in python even with help from various articles and courses that touched on the subject. Now that changed. Not only do I know how, but also WHY to use which type of method or variable. And it's all packed in short and easy to follow videos and reproducible code\",\n",
       " 'Your tutuorials are just fantastic. It all gets clearer and clearer about OOP! Thanks a ton! I',\n",
       " 'Hi Corey, you\\'re a great teacher and everything makes sense.. for some reason I came across with your tutorials and it was a blessing.\\nAfter 3 videos I am hooked and all shook\\'d up! - It\\'s like watching a TV series \"I’m addicted\".',\n",
       " 'Hi Corey, I really appreciate you recording those videos that help us so much in learning python and programming in general. I am a better person due to watching your videos, it somehow gives me peace when I am learning something.']"
      ]
     },
     "execution_count": 5,
     "metadata": {},
     "output_type": "execute_result"
    }
   ],
   "source": [
    "comments"
   ]
  },
  {
   "cell_type": "code",
   "execution_count": 6,
   "id": "98c36357",
   "metadata": {},
   "outputs": [
    {
     "name": "stderr",
     "output_type": "stream",
     "text": [
      "No model was supplied, defaulted to distilbert-base-uncased-finetuned-sst-2-english and revision af0f99b (https://huggingface.co/distilbert-base-uncased-finetuned-sst-2-english).\n",
      "Using a pipeline without specifying a model name and revision in production is not recommended.\n"
     ]
    }
   ],
   "source": [
    "sentiment_analysis = pipeline(\"sentiment-analysis\")\n",
    "comment_analysis = sentiment_analysis(comments)"
   ]
  },
  {
   "cell_type": "code",
   "execution_count": 7,
   "id": "d59e622a",
   "metadata": {},
   "outputs": [
    {
     "data": {
      "text/plain": [
       "[{'label': 'POSITIVE', 'score': 0.9742497801780701},\n",
       " {'label': 'POSITIVE', 'score': 0.9997926354408264},\n",
       " {'label': 'POSITIVE', 'score': 0.9989521503448486},\n",
       " {'label': 'POSITIVE', 'score': 0.9997730851173401},\n",
       " {'label': 'NEGATIVE', 'score': 0.9974080920219421},\n",
       " {'label': 'POSITIVE', 'score': 0.9923507571220398},\n",
       " {'label': 'POSITIVE', 'score': 0.9997623562812805},\n",
       " {'label': 'POSITIVE', 'score': 0.9998472929000854},\n",
       " {'label': 'POSITIVE', 'score': 0.9840669631958008},\n",
       " {'label': 'POSITIVE', 'score': 0.9985918402671814},\n",
       " {'label': 'POSITIVE', 'score': 0.9957096576690674},\n",
       " {'label': 'POSITIVE', 'score': 0.9993853569030762},\n",
       " {'label': 'POSITIVE', 'score': 0.9998433589935303},\n",
       " {'label': 'POSITIVE', 'score': 0.9993847608566284},\n",
       " {'label': 'POSITIVE', 'score': 0.9997301697731018},\n",
       " {'label': 'POSITIVE', 'score': 0.9997785687446594},\n",
       " {'label': 'POSITIVE', 'score': 0.9987428784370422},\n",
       " {'label': 'POSITIVE', 'score': 0.9998158812522888},\n",
       " {'label': 'POSITIVE', 'score': 0.9990004897117615},\n",
       " {'label': 'POSITIVE', 'score': 0.9995400905609131}]"
      ]
     },
     "execution_count": 7,
     "metadata": {},
     "output_type": "execute_result"
    }
   ],
   "source": [
    "comment_analysis"
   ]
  },
  {
   "cell_type": "code",
   "execution_count": 8,
   "id": "22813cec",
   "metadata": {},
   "outputs": [],
   "source": [
    "import pandas as pd"
   ]
  },
  {
   "cell_type": "code",
   "execution_count": 9,
   "id": "66b55a82",
   "metadata": {},
   "outputs": [],
   "source": [
    "df = pd.DataFrame.from_dict(comment_analysis)"
   ]
  },
  {
   "cell_type": "code",
   "execution_count": 10,
   "id": "6bc08c38",
   "metadata": {},
   "outputs": [
    {
     "data": {
      "text/html": [
       "<div>\n",
       "<style scoped>\n",
       "    .dataframe tbody tr th:only-of-type {\n",
       "        vertical-align: middle;\n",
       "    }\n",
       "\n",
       "    .dataframe tbody tr th {\n",
       "        vertical-align: top;\n",
       "    }\n",
       "\n",
       "    .dataframe thead th {\n",
       "        text-align: right;\n",
       "    }\n",
       "</style>\n",
       "<table border=\"1\" class=\"dataframe\">\n",
       "  <thead>\n",
       "    <tr style=\"text-align: right;\">\n",
       "      <th></th>\n",
       "      <th>label</th>\n",
       "      <th>score</th>\n",
       "    </tr>\n",
       "  </thead>\n",
       "  <tbody>\n",
       "    <tr>\n",
       "      <th>0</th>\n",
       "      <td>POSITIVE</td>\n",
       "      <td>0.974250</td>\n",
       "    </tr>\n",
       "    <tr>\n",
       "      <th>1</th>\n",
       "      <td>POSITIVE</td>\n",
       "      <td>0.999793</td>\n",
       "    </tr>\n",
       "    <tr>\n",
       "      <th>2</th>\n",
       "      <td>POSITIVE</td>\n",
       "      <td>0.998952</td>\n",
       "    </tr>\n",
       "    <tr>\n",
       "      <th>3</th>\n",
       "      <td>POSITIVE</td>\n",
       "      <td>0.999773</td>\n",
       "    </tr>\n",
       "    <tr>\n",
       "      <th>4</th>\n",
       "      <td>NEGATIVE</td>\n",
       "      <td>0.997408</td>\n",
       "    </tr>\n",
       "    <tr>\n",
       "      <th>5</th>\n",
       "      <td>POSITIVE</td>\n",
       "      <td>0.992351</td>\n",
       "    </tr>\n",
       "    <tr>\n",
       "      <th>6</th>\n",
       "      <td>POSITIVE</td>\n",
       "      <td>0.999762</td>\n",
       "    </tr>\n",
       "    <tr>\n",
       "      <th>7</th>\n",
       "      <td>POSITIVE</td>\n",
       "      <td>0.999847</td>\n",
       "    </tr>\n",
       "    <tr>\n",
       "      <th>8</th>\n",
       "      <td>POSITIVE</td>\n",
       "      <td>0.984067</td>\n",
       "    </tr>\n",
       "    <tr>\n",
       "      <th>9</th>\n",
       "      <td>POSITIVE</td>\n",
       "      <td>0.998592</td>\n",
       "    </tr>\n",
       "    <tr>\n",
       "      <th>10</th>\n",
       "      <td>POSITIVE</td>\n",
       "      <td>0.995710</td>\n",
       "    </tr>\n",
       "    <tr>\n",
       "      <th>11</th>\n",
       "      <td>POSITIVE</td>\n",
       "      <td>0.999385</td>\n",
       "    </tr>\n",
       "    <tr>\n",
       "      <th>12</th>\n",
       "      <td>POSITIVE</td>\n",
       "      <td>0.999843</td>\n",
       "    </tr>\n",
       "    <tr>\n",
       "      <th>13</th>\n",
       "      <td>POSITIVE</td>\n",
       "      <td>0.999385</td>\n",
       "    </tr>\n",
       "    <tr>\n",
       "      <th>14</th>\n",
       "      <td>POSITIVE</td>\n",
       "      <td>0.999730</td>\n",
       "    </tr>\n",
       "    <tr>\n",
       "      <th>15</th>\n",
       "      <td>POSITIVE</td>\n",
       "      <td>0.999779</td>\n",
       "    </tr>\n",
       "    <tr>\n",
       "      <th>16</th>\n",
       "      <td>POSITIVE</td>\n",
       "      <td>0.998743</td>\n",
       "    </tr>\n",
       "    <tr>\n",
       "      <th>17</th>\n",
       "      <td>POSITIVE</td>\n",
       "      <td>0.999816</td>\n",
       "    </tr>\n",
       "    <tr>\n",
       "      <th>18</th>\n",
       "      <td>POSITIVE</td>\n",
       "      <td>0.999000</td>\n",
       "    </tr>\n",
       "    <tr>\n",
       "      <th>19</th>\n",
       "      <td>POSITIVE</td>\n",
       "      <td>0.999540</td>\n",
       "    </tr>\n",
       "  </tbody>\n",
       "</table>\n",
       "</div>"
      ],
      "text/plain": [
       "       label     score\n",
       "0   POSITIVE  0.974250\n",
       "1   POSITIVE  0.999793\n",
       "2   POSITIVE  0.998952\n",
       "3   POSITIVE  0.999773\n",
       "4   NEGATIVE  0.997408\n",
       "5   POSITIVE  0.992351\n",
       "6   POSITIVE  0.999762\n",
       "7   POSITIVE  0.999847\n",
       "8   POSITIVE  0.984067\n",
       "9   POSITIVE  0.998592\n",
       "10  POSITIVE  0.995710\n",
       "11  POSITIVE  0.999385\n",
       "12  POSITIVE  0.999843\n",
       "13  POSITIVE  0.999385\n",
       "14  POSITIVE  0.999730\n",
       "15  POSITIVE  0.999779\n",
       "16  POSITIVE  0.998743\n",
       "17  POSITIVE  0.999816\n",
       "18  POSITIVE  0.999000\n",
       "19  POSITIVE  0.999540"
      ]
     },
     "execution_count": 10,
     "metadata": {},
     "output_type": "execute_result"
    }
   ],
   "source": [
    "df"
   ]
  },
  {
   "cell_type": "code",
   "execution_count": 11,
   "id": "4af8ebef",
   "metadata": {},
   "outputs": [],
   "source": [
    "comments = pd.Series(comments)"
   ]
  },
  {
   "cell_type": "code",
   "execution_count": 12,
   "id": "e1da5feb",
   "metadata": {},
   "outputs": [],
   "source": [
    "df[\"comments\"]=comments"
   ]
  },
  {
   "cell_type": "code",
   "execution_count": 14,
   "id": "573050d8",
   "metadata": {},
   "outputs": [
    {
     "data": {
      "text/html": [
       "<div>\n",
       "<style scoped>\n",
       "    .dataframe tbody tr th:only-of-type {\n",
       "        vertical-align: middle;\n",
       "    }\n",
       "\n",
       "    .dataframe tbody tr th {\n",
       "        vertical-align: top;\n",
       "    }\n",
       "\n",
       "    .dataframe thead th {\n",
       "        text-align: right;\n",
       "    }\n",
       "</style>\n",
       "<table border=\"1\" class=\"dataframe\">\n",
       "  <thead>\n",
       "    <tr style=\"text-align: right;\">\n",
       "      <th></th>\n",
       "      <th>label</th>\n",
       "      <th>score</th>\n",
       "      <th>comments</th>\n",
       "    </tr>\n",
       "  </thead>\n",
       "  <tbody>\n",
       "    <tr>\n",
       "      <th>0</th>\n",
       "      <td>POSITIVE</td>\n",
       "      <td>0.974250</td>\n",
       "      <td>Summary:\\nIn this video, Corey distinguishes b...</td>\n",
       "    </tr>\n",
       "    <tr>\n",
       "      <th>1</th>\n",
       "      <td>POSITIVE</td>\n",
       "      <td>0.999793</td>\n",
       "      <td>I'm broke right now but your tutorials are hel...</td>\n",
       "    </tr>\n",
       "    <tr>\n",
       "      <th>2</th>\n",
       "      <td>POSITIVE</td>\n",
       "      <td>0.998952</td>\n",
       "      <td>He actually knows what to teach, \\nUnlike most...</td>\n",
       "    </tr>\n",
       "    <tr>\n",
       "      <th>3</th>\n",
       "      <td>POSITIVE</td>\n",
       "      <td>0.999773</td>\n",
       "      <td>When I was a beginner, I have watched this vid...</td>\n",
       "    </tr>\n",
       "    <tr>\n",
       "      <th>4</th>\n",
       "      <td>NEGATIVE</td>\n",
       "      <td>0.997408</td>\n",
       "      <td>Hi Corey,\\n\\nI noticed a small mistake at 5:46...</td>\n",
       "    </tr>\n",
       "  </tbody>\n",
       "</table>\n",
       "</div>"
      ],
      "text/plain": [
       "      label     score                                           comments\n",
       "0  POSITIVE  0.974250  Summary:\\nIn this video, Corey distinguishes b...\n",
       "1  POSITIVE  0.999793  I'm broke right now but your tutorials are hel...\n",
       "2  POSITIVE  0.998952  He actually knows what to teach, \\nUnlike most...\n",
       "3  POSITIVE  0.999773  When I was a beginner, I have watched this vid...\n",
       "4  NEGATIVE  0.997408  Hi Corey,\\n\\nI noticed a small mistake at 5:46..."
      ]
     },
     "execution_count": 14,
     "metadata": {},
     "output_type": "execute_result"
    }
   ],
   "source": [
    "df.head()"
   ]
  },
  {
   "cell_type": "code",
   "execution_count": 24,
   "id": "a8539c2a",
   "metadata": {},
   "outputs": [
    {
     "data": {
      "text/plain": [
       "True     19\n",
       "False     1\n",
       "Name: label, dtype: int64"
      ]
     },
     "execution_count": 24,
     "metadata": {},
     "output_type": "execute_result"
    }
   ],
   "source": [
    "(df[\"label\"]==\"POSITIVE\").value_counts()"
   ]
  },
  {
   "cell_type": "code",
   "execution_count": 25,
   "id": "31c530d8",
   "metadata": {},
   "outputs": [],
   "source": [
    "pos,neg=(df[\"label\"]==\"POSITIVE\").value_counts()"
   ]
  },
  {
   "cell_type": "code",
   "execution_count": 27,
   "id": "b641e5a3",
   "metadata": {},
   "outputs": [],
   "source": [
    "labels=[\"positive\",\"negative\"]\n",
    "number=[pos,neg]"
   ]
  },
  {
   "cell_type": "code",
   "execution_count": 28,
   "id": "2cfbb97f",
   "metadata": {},
   "outputs": [],
   "source": [
    "import matplotlib.pyplot as plt"
   ]
  },
  {
   "cell_type": "code",
   "execution_count": 39,
   "id": "046f33d6",
   "metadata": {},
   "outputs": [
    {
     "data": {
      "text/plain": [
       "<BarContainer object of 2 artists>"
      ]
     },
     "execution_count": 39,
     "metadata": {},
     "output_type": "execute_result"
    },
    {
     "data": {
      "image/png": "[encoded data removed]",
      "text/plain": [
       "<Figure size 640x480 with 1 Axes>"
      ]
     },
     "metadata": {},
     "output_type": "display_data"
    }
   ],
   "source": [
    "plt.bar(labels,number)"
   ]
  },
  {
   "cell_type": "code",
   "execution_count": null,
   "id": "f9692aaf",
   "metadata": {},
   "outputs": [],
   "source": []
  }
 ],
 "metadata": {
  "kernelspec": {
   "display_name": "Python 3 (ipykernel)",
   "language": "python",
   "name": "python3"
  },
  "language_info": {
   "codemirror_mode": {
    "name": "ipython",
    "version": 3
   },
   "file_extension": ".py",
   "mimetype": "text/x-python",
   "name": "python",
   "nbconvert_exporter": "python",
   "pygments_lexer": "ipython3",
   "version": "3.9.16"
  }
 },
 "nbformat": 4,
 "nbformat_minor": 5
}
